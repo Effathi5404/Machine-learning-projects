{
 "cells": [
  {
   "cell_type": "code",
   "execution_count": 1,
   "id": "91694d78",
   "metadata": {},
   "outputs": [],
   "source": [
    "##import packages\n",
    "import csv\n",
    "import numpy as np\n",
    "import random\n",
    "import math\n",
    "import pandas as pd\n",
    "\n",
    "#import from sklearn\n",
    "from sklearn.decomposition import TruncatedSVD\n",
    "\n",
    "from sklearn.preprocessing import LabelEncoder, StandardScaler\n",
    "from sklearn.preprocessing import LabelEncoder,scale\n",
    "import matplotlib.pyplot as plt\n",
    "from sklearn.metrics import accuracy_score\n",
    "from sklearn.naive_bayes import GaussianNB\n",
    "from sklearn.preprocessing import MinMaxScaler\n",
    "import warnings \n",
    "\n",
    "warnings.filterwarnings(\"ignore\") "
   ]
  },
  {
   "cell_type": "code",
   "execution_count": 3,
   "id": "d136dfd2",
   "metadata": {},
   "outputs": [],
   "source": [
    "train_data = pd.read_csv(\"mnist_train.csv\")\n",
    "test_data = pd.read_csv(\"mnist_test.csv\")"
   ]
  },
  {
   "cell_type": "code",
   "execution_count": 4,
   "id": "8e5f0c99",
   "metadata": {},
   "outputs": [
    {
     "data": {
      "text/plain": [
       "(59999, 784)"
      ]
     },
     "execution_count": 4,
     "metadata": {},
     "output_type": "execute_result"
    }
   ],
   "source": [
    "XTrain_features=train_data.iloc[:, 1:]\n",
    "YTrain_features=train_data.iloc[:, 0]\n",
    "Xtest_features=test_data.iloc[:, 1:]\n",
    "Ytest_features = test_data.iloc[:, 0]\n",
    "XTrain_features.shape"
   ]
  },
  {
   "cell_type": "code",
   "execution_count": 5,
   "id": "a7d919ff",
   "metadata": {},
   "outputs": [],
   "source": [
    "#scaling the input train\n",
    "scaler = MinMaxScaler()\n",
    "XTrain_features = scaler.fit_transform(XTrain_features)\n",
    "\n",
    "Xtest_features= scaler.fit_transform(Xtest_features)"
   ]
  },
  {
   "cell_type": "code",
   "execution_count": 6,
   "id": "3b3be993",
   "metadata": {},
   "outputs": [
    {
     "name": "stdout",
     "output_type": "stream",
     "text": [
      "no of component  88\n"
     ]
    }
   ],
   "source": [
    "## find best no of component while total variane is just above 90%\n",
    "principle_component=[]\n",
    "variance=[]\n",
    "for i in range(1,785):\n",
    "    trainsvd = TruncatedSVD(n_components=i).fit(XTrain_features)\n",
    "    var=trainsvd.explained_variance_ratio_.sum()\n",
    "    principle_component.append(i)\n",
    "    variance.append(var )\n",
    "   \n",
    "    if(var>.900000000000000000):\n",
    "        break\n",
    "\n",
    "\n",
    "print(\"no of component \",i)"
   ]
  },
  {
   "cell_type": "code",
   "execution_count": 7,
   "id": "88f8a1a5",
   "metadata": {},
   "outputs": [
    {
     "data": {
      "text/plain": [
       "Text(0, 0.5, 'variance')"
      ]
     },
     "execution_count": 7,
     "metadata": {},
     "output_type": "execute_result"
    },
    {
     "data": {
      "image/png": "[encoded data removed]",
      "text/plain": [
       "<Figure size 432x288 with 1 Axes>"
      ]
     },
     "metadata": {
      "needs_background": "light"
     },
     "output_type": "display_data"
    }
   ],
   "source": [
    "\n",
    "comp=np.array(principle_component)\n",
    "var1=np.array(variance)\n",
    "plt.title(\"variance explained by principle components\")\n",
    "plt.plot(comp, var1)\n",
    "plt.xlabel('principle component')\n",
    "plt.ylabel('variance')"
   ]
  },
  {
   "cell_type": "code",
   "execution_count": 8,
   "id": "d758e639",
   "metadata": {},
   "outputs": [
    {
     "name": "stdout",
     "output_type": "stream",
     "text": [
      "(59999, 88)\n",
      "(9999, 88)\n"
     ]
    }
   ],
   "source": [
    "#training data with svd\n",
    "trainsvd = TruncatedSVD(n_components=88).fit(XTrain_features)\n",
    "SVD_train=trainsvd.transform(XTrain_features)\n",
    "\n",
    "print(SVD_train.shape)\n",
    "#testing data with svd\n",
    "testSVD= TruncatedSVD(n_components=88).fit(Xtest_features)\n",
    "SVD_Test= testSVD.transform(Xtest_features)\n",
    "print(SVD_Test.shape)"
   ]
  },
  {
   "cell_type": "code",
   "execution_count": 9,
   "id": "e806fbc8",
   "metadata": {},
   "outputs": [
    {
     "name": "stdout",
     "output_type": "stream",
     "text": [
      "naive bayes accuracy without svd 0.5546554655465546\n",
      "naive bayes accuracy with svd 0.3422342234223422\n"
     ]
    }
   ],
   "source": [
    "#gussian naive bayes\n",
    "\n",
    "from sklearn.naive_bayes import GaussianNB\n",
    "\n",
    " #gaussian naive bayes without svd\n",
    "nb = GaussianNB()\n",
    "fit1=nb.fit(XTrain_features,YTrain_features)\n",
    "nb_predict= fit1.predict(Xtest_features)\n",
    "p=Ytest_features.to_numpy()\n",
    "\n",
    "print(\"naive bayes accuracy without svd\",accuracy_score( nb_predict,p))\n",
    "\n",
    "#with svd\n",
    "\n",
    "\n",
    "nb_svd = GaussianNB()\n",
    "fit=nb_svd.fit(SVD_train,YTrain_features)\n",
    "nb_predict_svd= fit.predict(SVD_Test)\n",
    "\n",
    "print(\"naive bayes accuracy with svd\",accuracy_score(p, nb_predict_svd))"
   ]
  },
  {
   "cell_type": "code",
   "execution_count": 10,
   "id": "2907e36f",
   "metadata": {},
   "outputs": [
    {
     "name": "stdout",
     "output_type": "stream",
     "text": [
      "logistic regression accuracy without SVD 0.9255925592559255\n",
      "logistic regression accuracy with SVD 0.1856185618561856\n"
     ]
    }
   ],
   "source": [
    "##  logistic regression\n",
    "from sklearn.linear_model import LogisticRegression\n",
    "\n",
    "\n",
    "# without svd\n",
    "model = LogisticRegression(C=0.1,multi_class='multinomial')\n",
    "\n",
    "model.fit(XTrain_features,YTrain_features)\n",
    "predict=model.predict(Xtest_features)\n",
    "print('logistic regression accuracy without SVD', accuracy_score(Ytest_features, predict))\n",
    "\n",
    "## predict with SVD \n",
    "model.fit(SVD_train,YTrain_features)\n",
    "predict_svd=model.predict(SVD_Test)\n",
    "print('logistic regression accuracy with SVD', accuracy_score(Ytest_features, predict_svd))"
   ]
  },
  {
   "cell_type": "code",
   "execution_count": 11,
   "id": "5868b1a4",
   "metadata": {},
   "outputs": [
    {
     "name": "stdout",
     "output_type": "stream",
     "text": [
      "logistic regression accuracy without SVD 0.9002900290029003\n",
      "logistic regression accuracy with SVD 0.2084208420842084\n"
     ]
    }
   ],
   "source": [
    "##  logistic regression\n",
    "from sklearn.linear_model import LogisticRegression\n",
    "\n",
    "\n",
    "# without svd\n",
    "model = LogisticRegression(C=0.001,multi_class='multinomial')\n",
    "\n",
    "model.fit(XTrain_features,YTrain_features)\n",
    "predict=model.predict(Xtest_features)\n",
    "print('logistic regression accuracy without SVD', accuracy_score(Ytest_features, predict))\n",
    "\n",
    "## predict with SVD \n",
    "model.fit(SVD_train,YTrain_features)\n",
    "predict_svd=model.predict(SVD_Test)\n",
    "print('logistic regression accuracy with SVD', accuracy_score(Ytest_features, predict_svd))\n"
   ]
  },
  {
   "cell_type": "code",
   "execution_count": 12,
   "id": "57d2da3f",
   "metadata": {},
   "outputs": [
    {
     "name": "stdout",
     "output_type": "stream",
     "text": [
      "logistic regression accuracy without SVD 0.9252925292529253\n",
      "logistic regression accuracy with SVD 0.18701870187018702\n"
     ]
    }
   ],
   "source": [
    "##  logistic regression\n",
    "from sklearn.linear_model import LogisticRegression\n",
    "\n",
    "\n",
    "# without svd\n",
    "model = LogisticRegression(C=1,multi_class='multinomial')\n",
    "\n",
    "model.fit(XTrain_features,YTrain_features)\n",
    "predict=model.predict(Xtest_features)\n",
    "print('logistic regression accuracy without SVD', accuracy_score(Ytest_features, predict))\n",
    "\n",
    "## predict with SVD \n",
    "model.fit(SVD_train,YTrain_features)\n",
    "predict_svd=model.predict(SVD_Test)\n",
    "print('logistic regression accuracy with SVD', accuracy_score(Ytest_features, predict_svd))"
   ]
  },
  {
   "cell_type": "code",
   "execution_count": 15,
   "id": "f774eccb",
   "metadata": {},
   "outputs": [
    {
     "name": "stdout",
     "output_type": "stream",
     "text": [
      "logistic regression accuracy without SVD 0.857985798579858\n",
      "logistic regression accuracy with SVD 0.22902290229022904\n"
     ]
    }
   ],
   "source": [
    "##  logistic regression\n",
    "from sklearn.linear_model import LogisticRegression\n",
    "\n",
    "\n",
    "# without svd\n",
    "model = LogisticRegression(C=.0001,multi_class='multinomial')\n",
    "\n",
    "model.fit(XTrain_features,YTrain_features)\n",
    "predict=model.predict(Xtest_features)\n",
    "print('logistic regression accuracy without SVD', accuracy_score(Ytest_features, predict))\n",
    "\n",
    "## predict with SVD \n",
    "model.fit(SVD_train,YTrain_features)\n",
    "predict_svd=model.predict(SVD_Test)\n",
    "print('logistic regression accuracy with SVD', accuracy_score(Ytest_features, predict_svd))"
   ]
  },
  {
   "cell_type": "code",
   "execution_count": 16,
   "id": "1fb6000e",
   "metadata": {},
   "outputs": [
    {
     "name": "stdout",
     "output_type": "stream",
     "text": [
      "for k=  3  accuracy is  0.9746666666666667\n",
      "for k=  5  accuracy is  0.9738333333333333\n",
      "for k=  7  accuracy is  0.9725\n",
      "for k=  9  accuracy is  0.9699166666666666\n",
      "for k=  11  accuracy is  0.96875\n",
      "for k=  13  accuracy is  0.968\n",
      "for k=  15  accuracy is  0.9670833333333333\n",
      "for k=  17  accuracy is  0.965\n",
      "for k=  19  accuracy is  0.9635\n"
     ]
    }
   ],
   "source": [
    "from sklearn.neighbors import KNeighborsClassifier\n",
    "from sklearn.model_selection import train_test_split\n",
    "\n",
    "\n",
    "x_train,x_val, y_train, y_val= train_test_split(SVD_train, YTrain_features, test_size=0.20)\n",
    "best_K=0\n",
    "acc1=0\n",
    "\n",
    "# finding the best k\n",
    "\n",
    "\n",
    "for j in range (3,21,2):\n",
    "    model=KNeighborsClassifier(n_neighbors=j)\n",
    "    model.fit(x_train,y_train)\n",
    "    pred=model.predict(x_val)\n",
    "    acc=accuracy_score(y_val, pred)\n",
    "    print(\"for k= \",j,\" accuracy is \",acc)"
   ]
  },
  {
   "cell_type": "code",
   "execution_count": 17,
   "id": "063ef814",
   "metadata": {},
   "outputs": [
    {
     "name": "stdout",
     "output_type": "stream",
     "text": [
      "KNN accuracy without SVD 0.9704970497049705\n",
      "KNN accuracy with SVD 0.2569256925692569\n"
     ]
    }
   ],
   "source": [
    "#use the data without SVD\n",
    "KNN= KNeighborsClassifier(n_neighbors=3)\n",
    "KNN.fit(XTrain_features,YTrain_features)\n",
    "KNN_predict=KNN.predict(Xtest_features)\n",
    "print('KNN accuracy without SVD', accuracy_score(Ytest_features, KNN_predict))\n",
    "\n",
    "## predict with SVD KNN\n",
    "KNN.fit(SVD_train,YTrain_features)\n",
    "KNN_predict_svd=KNN.predict(SVD_Test)\n",
    "print('KNN accuracy with SVD', accuracy_score(Ytest_features, KNN_predict_svd))"
   ]
  },
  {
   "cell_type": "code",
   "execution_count": 18,
   "id": "199549b9",
   "metadata": {},
   "outputs": [
    {
     "name": "stdout",
     "output_type": "stream",
     "text": [
      "KNN accuracy without SVD 0.9687968796879688\n",
      "KNN accuracy with SVD 0.2563256325632563\n"
     ]
    }
   ],
   "source": [
    "#use the data without SVD\n",
    "KNN= KNeighborsClassifier(n_neighbors=5)\n",
    "KNN.fit(XTrain_features,YTrain_features)\n",
    "KNN_predict=KNN.predict(Xtest_features)\n",
    "print('KNN accuracy without SVD', accuracy_score(Ytest_features, KNN_predict))\n",
    "\n",
    "## predict with SVD KNN\n",
    "KNN.fit(SVD_train,YTrain_features)\n",
    "KNN_predict_svd=KNN.predict(SVD_Test)\n",
    "print('KNN accuracy with SVD', accuracy_score(Ytest_features, KNN_predict_svd))"
   ]
  },
  {
   "cell_type": "code",
   "execution_count": null,
   "id": "fbb7731b",
   "metadata": {},
   "outputs": [],
   "source": [
    "# from above calculation we can see the naive bayes,knn ,and logistic regression works well without svd.according to accuracy \n",
    "# without svd knn has highest accuracy and naive bayes has lowest accuracy.no model worked well with svd."
   ]
  }
 ],
 "metadata": {
  "kernelspec": {
   "display_name": "Python 3 (ipykernel)",
   "language": "python",
   "name": "python3"
  },
  "language_info": {
   "codemirror_mode": {
    "name": "ipython",
    "version": 3
   },
   "file_extension": ".py",
   "mimetype": "text/x-python",
   "name": "python",
   "nbconvert_exporter": "python",
   "pygments_lexer": "ipython3",
   "version": "3.9.7"
  }
 },
 "nbformat": 4,
 "nbformat_minor": 5
}
